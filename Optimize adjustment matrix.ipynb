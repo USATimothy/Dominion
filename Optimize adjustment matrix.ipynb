{
 "cells": [
  {
   "cell_type": "markdown",
   "metadata": {},
   "source": [
    "This notebook shows the process for optimizing the buy/gain adjustment table. The original matrix is the adjustment matrix for the avatar Bonnie. The matrix at the end is for the avatar Chelsea. Win rates for each are shown at the end to demonstrate the improvement. This code takes a long time to run because each game is affected by random shuffling as well as card purchasing decisions."
   ]
  },
  {
   "cell_type": "code",
   "execution_count": 13,
   "metadata": {},
   "outputs": [],
   "source": [
    "import Dominion\n",
    "import optimize_table\n",
    "import pandas\n",
    "import random\n",
    "import matplotlib.pyplot as plt"
   ]
  },
  {
   "cell_type": "code",
   "execution_count": 6,
   "metadata": {},
   "outputs": [],
   "source": [
    "active_rows=\"Adventurer,Bureaucrat,Council Room,Festival,Laboratory,\\\n",
    "Market,Militia,Moat,Smithy,Village,Witch,Gardens\".split(\",\")\n",
    "adf_Bonnie=pandas.read_csv(\"Bonnie_adjustment_matrix.csv\",index_col=0)\n",
    "rounds=10\n",
    "gamesperround=8000"
   ]
  },
  {
   "cell_type": "code",
   "execution_count": 7,
   "metadata": {},
   "outputs": [
    {
     "name": "stdout",
     "output_type": "stream",
     "text": [
      "Optimization round 1\n",
      "('Bureaucrat', 'Witch'):0 --> 40\n",
      "('Festival', 'Festival'):520 --> 484\n",
      "('Festival', 'Witch'):0 --> 48\n",
      "('Laboratory', 'Witch'):0 --> 17\n",
      "('Militia', 'Witch'):0 --> 43\n",
      "('Village', 'Witch'):0 --> 50\n",
      "('Witch', 'Witch'):510 --> 560\n",
      "('Gardens', 'Gold'):0 --> 39\n",
      "('Gold', 'Gold'):600 --> 640\n",
      "Optimization round 2\n",
      "('Smithy', 'Witch'):0 --> 43\n",
      "('Smithy', 'Province'):0 --> 26\n",
      "('Village', 'Village'):0 --> 41\n",
      "('Gardens', 'Adventurer'):0 --> -50\n",
      "('Province', 'Province'):800 --> 804\n",
      "Optimization round 3\n",
      "('Festival', 'Province'):0 --> 31\n",
      "('Laboratory', 'Village'):0 --> -50\n",
      "('Market', 'Duchy'):0 --> 30\n",
      "('Smithy', 'Gold'):0 --> 46\n",
      "('Witch', 'Council Room'):0 --> -50\n",
      "('Province', 'Province'):804 --> 807\n",
      "Optimization round 4\n",
      "('Bureaucrat', 'Bureaucrat'):380 --> 357\n",
      "('Moat', 'Silver'):0 --> 38\n",
      "('Village', 'Festival'):0 --> -37\n",
      "('Gardens', 'Silver'):0 --> 50\n",
      "Optimization round 5\n",
      "('Council Room', 'Province'):0 --> 28\n",
      "('Witch', 'Festival'):0 --> 42\n",
      "('Province', 'Province'):807 --> 806\n",
      "Optimization round 6\n",
      "('Council Room', 'Laboratory'):0 --> -50\n",
      "('Laboratory', 'Laboratory'):540 --> 490\n",
      "('Witch', 'Province'):0 --> 50\n",
      "('Silver', 'Silver'):300 --> 270\n",
      "Optimization round 7\n",
      "('Bureaucrat', 'Bureaucrat'):357 --> 319\n",
      "('Militia', 'Council Room'):0 --> -34\n",
      "Optimization round 8\n",
      "('Council Room', 'Adventurer'):0 --> -47\n",
      "('Council Room', 'Market'):0 --> -50\n",
      "('Smithy', 'Market'):0 --> -39\n",
      "('Smithy', 'Smithy'):400 --> 450\n",
      "('Copper', 'Copper'):0 --> -32\n",
      "Optimization round 9\n",
      "('Bureaucrat', 'Bureaucrat'):319 --> 280\n",
      "('Smithy', 'Militia'):0 --> -11\n",
      "('Village', 'Gold'):0 --> 26\n",
      "('Witch', 'Witch'):560 --> 568\n",
      "Optimization round 10\n",
      "('Festival', 'Gold'):0 --> 39\n",
      "('Village', 'Village'):41 --> -9\n",
      "('Duchy', 'Duchy'):0 --> -10\n",
      "('Province', 'Province'):806 --> 838\n"
     ]
    }
   ],
   "source": [
    "Chelsea_adf=optimize_table.optimize(adf_Bonnie,active_rows,rounds,gamesperround)"
   ]
  },
  {
   "cell_type": "code",
   "execution_count": 8,
   "metadata": {},
   "outputs": [],
   "source": [
    "Chelsea_adf.to_csv('Chelsea_adjustment_matrix.csv')"
   ]
  },
  {
   "cell_type": "code",
   "execution_count": 11,
   "metadata": {},
   "outputs": [],
   "source": [
    "#Chelsea vs Bonnie head to head 2 player\n",
    "players=['Bonnie','Chelsea']\n",
    "players_star=['*'+p for p in players]\n",
    "Wins={}\n",
    "for player in players:\n",
    "    Wins[player]=0\n",
    "for i in range(1000):\n",
    "    random.shuffle(players_star)\n",
    "    winners=Dominion.playgame(players_star,True)[0]\n",
    "    for winner in winners:\n",
    "        Wins[winner]+=1"
   ]
  },
  {
   "cell_type": "code",
   "execution_count": 15,
   "metadata": {},
   "outputs": [
    {
     "data": {
      "image/png": "[encoded data removed]",
      "text/plain": [
       "<Figure size 432x288 with 1 Axes>"
      ]
     },
     "metadata": {},
     "output_type": "display_data"
    }
   ],
   "source": [
    "#Pie chart showing win share by player. Note that one game can have more than one winner.\n",
    "#So the chart shows share of wins by player, not the % of games won by that player.\n",
    "fig1,ax1=plt.subplots()\n",
    "sizes=[Wins[p] for p in players]\n",
    "ax1.pie(sizes,labels=players,autopct='%1.0f%%')\n",
    "plt.title('Win share, Bonnie vs. Chelsea')\n",
    "plt.show()"
   ]
  },
  {
   "cell_type": "code",
   "execution_count": 16,
   "metadata": {},
   "outputs": [],
   "source": [
    "#Wins in 3-player with Adam\n",
    "players=['Adam','Bonnie','Chelsea']\n",
    "players_star=['*'+p for p in players]\n",
    "Wins={}\n",
    "for player in players:\n",
    "    Wins[player]=0\n",
    "for i in range(1000):\n",
    "    random.shuffle(players_star)\n",
    "    winners=Dominion.playgame(players_star,True)[0]\n",
    "    for winner in winners:\n",
    "        Wins[winner]+=1"
   ]
  },
  {
   "cell_type": "code",
   "execution_count": 17,
   "metadata": {},
   "outputs": [
    {
     "data": {
      "image/png": "[encoded data removed]",
      "text/plain": [
       "<Figure size 432x288 with 1 Axes>"
      ]
     },
     "metadata": {},
     "output_type": "display_data"
    }
   ],
   "source": [
    "#Pie chart showing win share by player. Note that one game can have more than one winner.\n",
    "#So the chart shows share of wins by player, not the % of games won by that player.\n",
    "fig1,ax1=plt.subplots()\n",
    "sizes=[Wins[p] for p in players]\n",
    "ax1.pie(sizes,labels=players,autopct='%1.0f%%')\n",
    "plt.title('Win share, first three computer players')\n",
    "plt.show()"
   ]
  },
  {
   "cell_type": "code",
   "execution_count": 21,
   "metadata": {},
   "outputs": [],
   "source": [
    "#4-player\n",
    "players=['Bonnie','Bonnie','Chelsea','Chelsea']\n",
    "players_star=['*'+p for p in players]\n",
    "Wins={}\n",
    "for player in players:\n",
    "    Wins[player]=0\n",
    "for i in range(1000):\n",
    "    random.shuffle(players_star)\n",
    "    winners=Dominion.playgame(players_star,True)[0]\n",
    "    for winner in winners:\n",
    "        Wins[winner]+=1"
   ]
  },
  {
   "cell_type": "code",
   "execution_count": 24,
   "metadata": {},
   "outputs": [
    {
     "data": {
      "image/png": "[encoded data removed]",
      "text/plain": [
       "<Figure size 432x288 with 1 Axes>"
      ]
     },
     "metadata": {},
     "output_type": "display_data"
    }
   ],
   "source": [
    "#Pie chart showing win share by player. Note that one game can have more than one winner.\n",
    "#So the chart shows share of wins by player, not the % of games won by that player.\n",
    "fig1,ax1=plt.subplots()\n",
    "sizes=[Wins[p] for p in ['Bonnie','Chelsea']]\n",
    "ax1.pie(sizes,labels=['Bonnies','Chelseas'],autopct='%1.0f%%')\n",
    "plt.title('Win share, 4 player with 2 Bonnies, 2 Chelseas')\n",
    "plt.show()"
   ]
  },
  {
   "cell_type": "code",
   "execution_count": null,
   "metadata": {},
   "outputs": [],
   "source": []
  }
 ],
 "metadata": {
  "kernelspec": {
   "display_name": "Python 3",
   "language": "python",
   "name": "python3"
  }
 },
 "nbformat": 4,
 "nbformat_minor": 2
}
